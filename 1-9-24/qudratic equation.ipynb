{
 "cells": [
  {
   "cell_type": "code",
   "execution_count": 8,
   "metadata": {},
   "outputs": [
    {
     "ename": "NameError",
     "evalue": "name 'square' is not defined",
     "output_type": "error",
     "traceback": [
      "\u001b[1;31m---------------------------------------------------------------------------\u001b[0m",
      "\u001b[1;31mNameError\u001b[0m                                 Traceback (most recent call last)",
      "Cell \u001b[1;32mIn[8], line 62\u001b[0m\n\u001b[0;32m     60\u001b[0m \u001b[38;5;66;03m# main method\u001b[39;00m\n\u001b[0;32m     61\u001b[0m q \u001b[38;5;241m=\u001b[39m Quadratic(\u001b[38;5;241m1\u001b[39m, \u001b[38;5;241m0\u001b[39m, \u001b[38;5;241m1\u001b[39m)\n\u001b[1;32m---> 62\u001b[0m \u001b[38;5;28mprint\u001b[39m(\u001b[38;5;124m\"\u001b[39m\u001b[38;5;124mSolutions:\u001b[39m\u001b[38;5;124m\"\u001b[39m, \u001b[43mq\u001b[49m\u001b[38;5;241;43m.\u001b[39;49m\u001b[43msolution\u001b[49m\u001b[43m(\u001b[49m\u001b[43m)\u001b[49m)\n\u001b[0;32m     63\u001b[0m q\u001b[38;5;241m.\u001b[39mplot()\n",
      "Cell \u001b[1;32mIn[8], line 17\u001b[0m, in \u001b[0;36mQuadratic.solution\u001b[1;34m(self)\u001b[0m\n\u001b[0;32m     16\u001b[0m \u001b[38;5;28;01mdef\u001b[39;00m \u001b[38;5;21msolution\u001b[39m(\u001b[38;5;28mself\u001b[39m):\n\u001b[1;32m---> 17\u001b[0m     d \u001b[38;5;241m=\u001b[39m \u001b[43msquare\u001b[49m(b) \u001b[38;5;241m-\u001b[39m \u001b[38;5;241m4\u001b[39m\u001b[38;5;241m*\u001b[39m\u001b[38;5;28mself\u001b[39m\u001b[38;5;241m.\u001b[39ma\u001b[38;5;241m*\u001b[39m\u001b[38;5;28mself\u001b[39m\u001b[38;5;241m.\u001b[39mc\n\u001b[0;32m     18\u001b[0m     \u001b[38;5;28;01mif\u001b[39;00m d \u001b[38;5;241m<\u001b[39m \u001b[38;5;241m0\u001b[39m:\n\u001b[0;32m     19\u001b[0m         \u001b[38;5;28;01mreturn\u001b[39;00m \u001b[38;5;124m\"\u001b[39m\u001b[38;5;124mNo real solutions\u001b[39m\u001b[38;5;124m\"\u001b[39m\n",
      "\u001b[1;31mNameError\u001b[0m: name 'square' is not defined"
     ]
    }
   ],
   "source": [
    "import numpy as np \n",
    "from matplotlib import pyplot as plt\n",
    "\n",
    "class Quadratic:\n",
    "\n",
    "    def __init__(self, a, b, c):\n",
    "        self.a = a\n",
    "        self.b = b\n",
    "        self.c = c\n",
    "\n",
    "    def square(self,k):\n",
    "        return self.k**2\n",
    "    def sqrt(self,k):\n",
    "        return self.k**0.5\n",
    "    \n",
    "    def solution(self):\n",
    "        d = self.square(b) - 4*self.a*self.c\n",
    "        if d < 0:\n",
    "            return \"No real solutions\"\n",
    "        elif d == 0:\n",
    "            return -self.b / (2 * self.a)\n",
    "        else:\n",
    "            x1 = (-self.b + self.sqrt(d)) / (2 * self.a)\n",
    "            x2 = (-self.b - self.sqrt(d)) / (2 * self.a)\n",
    "            return x1, x2\n",
    "    \n",
    "    def plot(self):\n",
    "        sol = self.solution()\n",
    "\n",
    "        if isinstance(sol,str):\n",
    "            print(sol)\n",
    "            return\n",
    "        elif isinstance(sol,tuple):\n",
    "            x1, x2 = sol\n",
    "        else:\n",
    "            x1= x2= sol\n",
    "        \n",
    "        def f(x):\n",
    "            return self.a * x**2 + self.b * x + self.c\n",
    "        \n",
    "        x = np.linspace(min(x1, x2) - 10, max(x1, x2) + 10, 400)\n",
    "        y=f(x)\n",
    "\n",
    "        plt.plot(x,y,label=f'{self.a}x² + {self.b}x + {self.c} = 0')\n",
    "        plt.scatter([x1, x2], [0, 0], color='red')\n",
    "        plt.text(x1, 0, f'x1 = {x1:.1f}', ha='left', color='red')\n",
    "        plt.text(x2, 0, f'x2 = {x2:.1f}', ha='right', color='red')\n",
    "\n",
    "        plt.axhline(0, color='black', linewidth=0.5)\n",
    "        plt.axvline(0, color='black', linewidth=0.5)\n",
    "        plt.xlabel('x')\n",
    "        plt.ylabel('f(x)')\n",
    "        plt.title('Quadratic Equation Curve')\n",
    "        plt.legend()\n",
    "\n",
    "       \n",
    "        plt.grid(True)\n",
    "        plt.show()\n",
    "\n",
    "# main method\n",
    "q = Quadratic(1, 0, 1)\n",
    "print(\"Solutions:\", q.solution())\n",
    "q.plot()\n",
    "\n",
    "    "
   ]
  },
  {
   "cell_type": "code",
   "execution_count": null,
   "metadata": {},
   "outputs": [],
   "source": []
  }
 ],
 "metadata": {
  "kernelspec": {
   "display_name": "Python 3",
   "language": "python",
   "name": "python3"
  },
  "language_info": {
   "codemirror_mode": {
    "name": "ipython",
    "version": 3
   },
   "file_extension": ".py",
   "mimetype": "text/x-python",
   "name": "python",
   "nbconvert_exporter": "python",
   "pygments_lexer": "ipython3",
   "version": "3.12.1"
  }
 },
 "nbformat": 4,
 "nbformat_minor": 2
}
